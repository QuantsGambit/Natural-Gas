{
 "cells": [
  {
   "cell_type": "markdown",
   "metadata": {},
   "source": [
    "# Natural Gas Data Collection\n",
    "### What we are building\n",
    "We will build a Web Crawler to collect data for us that we will then build scripts to clean and analyze the data we collect. The data we are collecting in this example is from https://www.eia.gov a U.S Government agency, Energy Information Administration. They have a vast supply of data for all sorts of enrgies like Crude Oil, Natural Gas, Coal, Heating Oil, etc, but for this example we will only be using Natural Gas data.\n",
    "### Modules\n",
    " - bs4    (https://www.crummy.com/software/BeautifulSoup/bs4/doc/)"
   ]
  },
  {
   "cell_type": "code",
   "execution_count": 2,
   "metadata": {},
   "outputs": [],
   "source": [
    "# Importing Modules\n",
    "from bs4 import BeautifulSoup as soup\n",
    "from urllib.request import urlopen as uReq\n",
    "from datetime import datetime\n",
    "import pandas as pd\n",
    "import csv"
   ]
  },
  {
   "cell_type": "markdown",
   "metadata": {},
   "source": [
    "### Configuring Soup\n",
    "We set the url equal to the website with the target data we are trying to collect. Next we define the Client to request are target url, we then create the soup to read all the html in the url, And lastly closing the client."
   ]
  },
  {
   "cell_type": "code",
   "execution_count": 3,
   "metadata": {},
   "outputs": [],
   "source": [
    "# Config for bs4\n",
    "url =  'https://www.eia.gov/dnav/ng/ng_sum_lsum_dcu_nus_m.htm' # Target Website\n",
    "uClient = uReq(url) # Defining \n",
    "page_soup = soup(uClient.read(), \"html.parser\") # Creating the soup\n",
    "uClient.close() #Closing "
   ]
  },
  {
   "cell_type": "markdown",
   "metadata": {},
   "source": [
    "### Collecting Raw Data\n",
    "We now define the data we are looking to collect, if you try to reproduce this project with different data you can find the data be inspecting the elements in your browser. The target data in this example is in the following html tags.\n",
    "- < td class=\"Current2\" > TARGET_DATA < /td > \n",
    "\n",
    "To find all the data in these html tags we use the following\n",
    "- find.All('td', {'class' : 'Current2'})\n",
    "\n",
    "Now we have our target data, but it's raw data we need to clean it for efficient future use."
   ]
  },
  {
   "cell_type": "code",
   "execution_count": 4,
   "metadata": {},
   "outputs": [
    {
     "name": "stdout",
     "output_type": "stream",
     "text": [
      "Sample of Data Collected!!!  [<td class=\"Current2\" width=\"76\">NA</td>, <td class=\"Current2\" width=\"76\">1.50</td>, <td class=\"Current2\" width=\"76\">1.48</td>, <td class=\"Current2\" width=\"76\">1.48</td>, <td class=\"Current2\" width=\"76\">3.17</td>]\n"
     ]
    }
   ],
   "source": [
    "# Finding Target Data\n",
    "Target_Data = page_soup.findAll('td', {'class' : 'Current2'})\n",
    "sample = Target_Data[:5]\n",
    "print('Sample of Data Collected!!! ', sample)"
   ]
  },
  {
   "cell_type": "markdown",
   "metadata": {},
   "source": [
    "### Defining and Converting the html data to plain text data\n",
    "Now we want to define our data and filter out the html tags from the data, so we just have the values and annoying < td > etc. we can only use the built in bs4 function .text with single elements, CANT use with a list.\n",
    "- This works!\n",
    " - test = test_data[1].text\n",
    "\n",
    "\n",
    "- This does not work!\n",
    " - test = test_data[1:10].text"
   ]
  },
  {
   "cell_type": "code",
   "execution_count": 5,
   "metadata": {},
   "outputs": [],
   "source": [
    "# Defining and Converting html data to plain text\n",
    "## Prices\n",
    "prices_i = Target_Data[1].text\n",
    "prices_i_bp = Target_Data[2].text\n",
    "prices_i_lng = Target_Data[3].text\n",
    "prices_e = Target_Data[4].text\n",
    "prices_e_bp = Target_Data[5].text\n",
    "prices_e_lng = Target_Data[6].text\n",
    "prices_citygate = Target_Data[7].text\n",
    "prices_resid = Target_Data[8].text\n",
    "prices_commer = Target_Data[9].text\n",
    "prices_indust = Target_Data[10].text\n",
    "prices_elec_power = Target_Data[11].text\n",
    "## Production\n",
    "prod_gw = Target_Data[12].text\n",
    "prod_mp = Target_Data[20].text\n",
    "prod_ngpl = Target_Data[21].text\n",
    "prod_dry = Target_Data[22].text\n",
    "## Import/Export Volume (McF)\n",
    "vol_i_imports = Target_Data[23].text\n",
    "vol_i_bp = Target_Data[24].text\n",
    "vol_i_lng = Target_Data[25].text\n",
    "vol_e_exports = Target_Data[26].text\n",
    "vol_e_bp = Target_Data[27].text\n",
    "vol_e_lng = Target_Data[28].text\n",
    "## Storage Volume (McF)\n",
    "stor_tc = Target_Data[29].text\n",
    "stor_gs = Target_Data[30].text\n",
    "stor_bg = Target_Data[31].text\n",
    "stor_wg = Target_Data[32].text\n",
    "stor_Injec = Target_Data[33].text\n",
    "stor_Withd = Target_Data[34].text\n",
    "stor_nw = Target_Data[35].text \n",
    "## Consumption Volume (McF)\n",
    "consump_tc = Target_Data[36].text\n",
    "consump_lpf = Target_Data[37].text\n",
    "consump_pdu = Target_Data[38].text\n",
    "consump_d2c = Target_Data[39].text\n",
    "consump_resid = Target_Data[40].text\n",
    "consump_commer = Target_Data[41].text\n",
    "consump_indust = Target_Data[42].text\n",
    "consump_vf = Target_Data[43].text\n",
    "consump_ep = Target_Data[44].text"
   ]
  },
  {
   "cell_type": "markdown",
   "metadata": {},
   "source": [
    "### Creating a series of if statements to figure out the current month\n",
    "A big problem we run into with this data is it's lagging 2 months behind each release date, so to acurratley date the new data our bot collects we have to create a chain of if statements to subtract the current month by 2. For example, the most recent (april) data was published June 30th. So the next data release on July 31st will be for Mays data from 2 months ago.\n",
    "- x_month = the current month (1-12)\n",
    "- formula = x_month - 2 months = the month of the data\n",
    "- if x_month = 12 \n",
    "    - then formula = 10 = October "
   ]
  },
  {
   "cell_type": "code",
   "execution_count": 10,
   "metadata": {},
   "outputs": [
    {
     "name": "stdout",
     "output_type": "stream",
     "text": [
      "2020-05-1\n"
     ]
    }
   ],
   "source": [
    "# Defining x Date\n",
    "x_month = datetime.now().month\n",
    "formula = x_month - 2\n",
    "\n",
    "# If statements to tell the month\n",
    "if formula == 1:\n",
    "    date_ = '2020-01-1'\n",
    "if formula == 2:\n",
    "    date_ = '2020-02-1'\n",
    "if formula == 3:\n",
    "    date_ = '2020-03-1'\n",
    "if formula == 4:\n",
    "    date_ = '2020-04-1'\n",
    "if formula == 5:\n",
    "    date_ = '2020-05-1'\n",
    "if formula == 6:\n",
    "    date_ = '2020-06-1'\n",
    "if formula == 7:\n",
    "    date_ = '2020-07-1'\n",
    "if formula == 8:\n",
    "    date_ = '2020-08-1'\n",
    "if formula == 9:\n",
    "    date_ = '2020-09-1'\n",
    "if formula == 10:\n",
    "    date_ = '2020-10-1'\n",
    "if formula == 11:\n",
    "    date_ = '2020-11-1'\n",
    "if formula == 12:\n",
    "    date_ = '2020-12-1'\n",
    "print(date_)"
   ]
  },
  {
   "cell_type": "markdown",
   "metadata": {},
   "source": [
    "### Creating Pandas DataFrame"
   ]
  },
  {
   "cell_type": "code",
   "execution_count": 13,
   "metadata": {},
   "outputs": [
    {
     "data": {
      "text/html": [
       "<div>\n",
       "<style scoped>\n",
       "    .dataframe tbody tr th:only-of-type {\n",
       "        vertical-align: middle;\n",
       "    }\n",
       "\n",
       "    .dataframe tbody tr th {\n",
       "        vertical-align: top;\n",
       "    }\n",
       "\n",
       "    .dataframe thead th {\n",
       "        text-align: right;\n",
       "    }\n",
       "</style>\n",
       "<table border=\"1\" class=\"dataframe\">\n",
       "  <thead>\n",
       "    <tr style=\"text-align: right;\">\n",
       "      <th></th>\n",
       "      <th>Import Prices</th>\n",
       "      <th>Import Prices By Pipeline</th>\n",
       "      <th>Import Prices As Liquified NatGas</th>\n",
       "      <th>Export Prices</th>\n",
       "      <th>Export Prices By Pipeline</th>\n",
       "      <th>Export Prices As Liquified NatGas</th>\n",
       "      <th>Citygate Prices</th>\n",
       "      <th>Residential Prices</th>\n",
       "      <th>Commercial Prices</th>\n",
       "      <th>Industrial Prices</th>\n",
       "      <th>...</th>\n",
       "      <th>Net Withdrawals</th>\n",
       "      <th>Total Consumption</th>\n",
       "      <th>Lean &amp; Plant Fuel</th>\n",
       "      <th>Pipeline &amp; Distribution Use</th>\n",
       "      <th>Delivered to Consumers</th>\n",
       "      <th>Residential</th>\n",
       "      <th>Commercial</th>\n",
       "      <th>Industrial</th>\n",
       "      <th>Vehicle Fuel</th>\n",
       "      <th>Electric Power</th>\n",
       "    </tr>\n",
       "  </thead>\n",
       "  <tbody>\n",
       "    <tr>\n",
       "      <th>2020-05-1</th>\n",
       "      <td>1.50</td>\n",
       "      <td>1.48</td>\n",
       "      <td>1.48</td>\n",
       "      <td>3.17</td>\n",
       "      <td>1.68</td>\n",
       "      <td>4.67</td>\n",
       "      <td>3.06</td>\n",
       "      <td>10.68</td>\n",
       "      <td>7.38</td>\n",
       "      <td>2.97</td>\n",
       "      <td>...</td>\n",
       "      <td>-305,362</td>\n",
       "      <td>2,247,239</td>\n",
       "      <td>153,212</td>\n",
       "      <td>64,476</td>\n",
       "      <td>2,029,552</td>\n",
       "      <td>377,575</td>\n",
       "      <td>239,988</td>\n",
       "      <td>643,237</td>\n",
       "      <td>4,835</td>\n",
       "      <td>763,917</td>\n",
       "    </tr>\n",
       "  </tbody>\n",
       "</table>\n",
       "<p>1 rows × 37 columns</p>\n",
       "</div>"
      ],
      "text/plain": [
       "          Import Prices Import Prices By Pipeline  \\\n",
       "2020-05-1          1.50                      1.48   \n",
       "\n",
       "          Import Prices As Liquified NatGas Export Prices  \\\n",
       "2020-05-1                              1.48          3.17   \n",
       "\n",
       "          Export Prices By Pipeline Export Prices As Liquified NatGas  \\\n",
       "2020-05-1                      1.68                              4.67   \n",
       "\n",
       "          Citygate Prices Residential Prices Commercial Prices  \\\n",
       "2020-05-1            3.06              10.68              7.38   \n",
       "\n",
       "          Industrial Prices  ... Net Withdrawals Total Consumption  \\\n",
       "2020-05-1              2.97  ...        -305,362         2,247,239   \n",
       "\n",
       "          Lean & Plant Fuel Pipeline & Distribution Use  \\\n",
       "2020-05-1           153,212                      64,476   \n",
       "\n",
       "          Delivered to Consumers Residential Commercial Industrial  \\\n",
       "2020-05-1              2,029,552     377,575    239,988    643,237   \n",
       "\n",
       "          Vehicle Fuel Electric Power  \n",
       "2020-05-1        4,835        763,917  \n",
       "\n",
       "[1 rows x 37 columns]"
      ]
     },
     "execution_count": 13,
     "metadata": {},
     "output_type": "execute_result"
    }
   ],
   "source": [
    "# Defining Index\n",
    "idex = (date_,)\n",
    "# Defining Columns\n",
    "col = ('Import Prices', 'Import Prices By Pipeline', 'Import Prices As Liquified NatGas', 'Export Prices', 'Export Prices By Pipeline', 'Export Prices As Liquified NatGas',\n",
    "     'Citygate Prices', 'Residential Prices', 'Commercial Prices', 'Industrial Prices', 'Electric Power Prices', 'Gross Withdrawals', 'Marketed Production', 'NGPL Production', \n",
    "     'Dry Production', 'Import Volume(Mcf)', 'Import Volume By Pipeline', 'Import Volume As LNG', 'Export Volume(Mcf)', 'Export Volume By Pipeline', 'Export Volume As LNG', \n",
    "     'Total Capacity', 'Gas in Storage', 'Base Gas', 'Working Gas', 'Injections', 'Withdrawals', 'Net Withdrawals','Total Consumption', 'Lean & Plant Fuel', 'Pipeline & Distribution Use',\n",
    "     'Delivered to Consumers', 'Residential', 'Commercial', 'Industrial', 'Vehicle Fuel', 'Electric Power')\n",
    "# Defining Dataset\n",
    "data = (prices_i, prices_i_bp, prices_i_lng, prices_e, prices_e_bp, prices_e_lng,\n",
    "       prices_citygate, prices_resid, prices_commer, prices_indust, prices_elec_power, \n",
    "       prod_gw, prod_mp, prod_ngpl, prod_dry, vol_i_imports, vol_i_bp, vol_i_lng, vol_e_exports,\n",
    "       vol_e_bp, vol_e_lng, stor_tc, stor_gs, stor_bg, stor_wg, stor_Injec, stor_Withd,\n",
    "       stor_nw, consump_tc, consump_lpf, consump_pdu, consump_d2c, consump_resid, consump_commer,\n",
    "       consump_indust, consump_vf, consump_ep)\n",
    "# Creating DataFrame\n",
    "df = pd.DataFrame([data], index=idex, columns=(col))\n",
    "df"
   ]
  },
  {
   "cell_type": "code",
   "execution_count": 17,
   "metadata": {},
   "outputs": [],
   "source": [
    "# Exporting Dataset\n",
    "df.to_csv('Natural Gas Data.csv', mode='a')"
   ]
  }
 ],
 "metadata": {
  "kernelspec": {
   "display_name": "Python 3",
   "language": "python",
   "name": "python3"
  },
  "language_info": {
   "codemirror_mode": {
    "name": "ipython",
    "version": 3
   },
   "file_extension": ".py",
   "mimetype": "text/x-python",
   "name": "python",
   "nbconvert_exporter": "python",
   "pygments_lexer": "ipython3",
   "version": "3.7.6"
  }
 },
 "nbformat": 4,
 "nbformat_minor": 4
}
